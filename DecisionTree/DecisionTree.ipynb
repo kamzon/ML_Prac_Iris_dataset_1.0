{
 "cells": [
  {
   "cell_type": "markdown",
   "metadata": {},
   "source": [
    "# DataSet:"
   ]
  },
  {
   "cell_type": "raw",
   "metadata": {},
   "source": [
    "* Each row is an example.\n",
    "* The last column is the label.\n",
    "* the first tow columns are the features."
   ]
  },
  {
   "cell_type": "code",
   "execution_count": 29,
   "metadata": {},
   "outputs": [],
   "source": [
    "Train_data = [['Green',3,'Mango'],['Yellow',3,'Mango'],['Red',1,'Grape'],['Red',1,'Grape'],['Yellow',3,'Lemon'] ] "
   ]
  },
  {
   "cell_type": "code",
   "execution_count": 30,
   "metadata": {},
   "outputs": [],
   "source": [
    "# Columns labls\n",
    "Headers = [\"Color\",\"Diameter\",\"Label\"]"
   ]
  },
  {
   "cell_type": "code",
   "execution_count": 31,
   "metadata": {},
   "outputs": [],
   "source": [
    "# unique_values: find the unique values for a column in data\n",
    "\n",
    "def uniques_values(rows,col):\n",
    "    return set([row[col] for row in rows])"
   ]
  },
  {
   "cell_type": "code",
   "execution_count": 32,
   "metadata": {},
   "outputs": [
    {
     "data": {
      "text/plain": [
       "{'Green', 'Red', 'Yellow'}"
      ]
     },
     "execution_count": 32,
     "metadata": {},
     "output_type": "execute_result"
    }
   ],
   "source": [
    "uniques_values(Train_data,0)"
   ]
  },
  {
   "cell_type": "code",
   "execution_count": 33,
   "metadata": {},
   "outputs": [
    {
     "data": {
      "text/plain": [
       "{1, 3}"
      ]
     },
     "execution_count": 33,
     "metadata": {},
     "output_type": "execute_result"
    }
   ],
   "source": [
    "uniques_values(Train_data,1)"
   ]
  },
  {
   "cell_type": "code",
   "execution_count": 34,
   "metadata": {},
   "outputs": [],
   "source": [
    "# Class_count: count the number of each type in the data.\n",
    "\n",
    "def class_count(rows):\n",
    "    \n",
    "    count={}\n",
    "    for row in rows:\n",
    "        label=row[-1]\n",
    "        if label not in count:\n",
    "            count[label]=0\n",
    "            \n",
    "        count[label]+=1\n",
    "    \n",
    "    \n",
    "    return count"
   ]
  },
  {
   "cell_type": "code",
   "execution_count": 35,
   "metadata": {},
   "outputs": [
    {
     "data": {
      "text/plain": [
       "{'Mango': 2, 'Grape': 2, 'Lemon': 1}"
      ]
     },
     "execution_count": 35,
     "metadata": {},
     "output_type": "execute_result"
    }
   ],
   "source": [
    "class_count(Train_data)"
   ]
  },
  {
   "cell_type": "code",
   "execution_count": 36,
   "metadata": {},
   "outputs": [],
   "source": [
    "# is_numeric: test if a value is numeric.\n",
    "\n",
    "def is_numeric(val):\n",
    "    return isinstance(val,int) or isinstance(val, float)"
   ]
  },
  {
   "cell_type": "code",
   "execution_count": 37,
   "metadata": {},
   "outputs": [
    {
     "data": {
      "text/plain": [
       "True"
      ]
     },
     "execution_count": 37,
     "metadata": {},
     "output_type": "execute_result"
    }
   ],
   "source": [
    "is_numeric(7)"
   ]
  },
  {
   "cell_type": "code",
   "execution_count": 38,
   "metadata": {},
   "outputs": [
    {
     "data": {
      "text/plain": [
       "False"
      ]
     },
     "execution_count": 38,
     "metadata": {},
     "output_type": "execute_result"
    }
   ],
   "source": [
    "is_numeric('7')"
   ]
  },
  {
   "cell_type": "code",
   "execution_count": 39,
   "metadata": {},
   "outputs": [],
   "source": [
    "class Question:\n",
    "    \"\"\" A question is used to partition a dataset.\n",
    "    \n",
    "        this class record a column number and column value. \n",
    "        the match method is used to compare a feature value in an exemple to the feature \n",
    "        value stored in the question.\"\"\"\n",
    "    \n",
    "    def __init__(self, column, value):\n",
    "        self.column = column\n",
    "        self.value = value\n",
    "        \n",
    "    def match(self, example):\n",
    "        # compare the example value with the value in the question.\n",
    "        \n",
    "        val = example[self.column]\n",
    "        if is_numeric(val):\n",
    "            return val >= self.value\n",
    "        \n",
    "        else :\n",
    "            return val == self.value\n",
    "        \n",
    "    def __repr__(self):\n",
    "        # method to print the qustion\n",
    "        \n",
    "        condition = \"==\"\n",
    "        \n",
    "        if is_numeric(self.value):\n",
    "            condition = \">=\"\n",
    "            \n",
    "        return \"Is %s %s %s ?\" %(Headers[self.column],condition,str(self.value))\n",
    "        "
   ]
  },
  {
   "cell_type": "code",
   "execution_count": 40,
   "metadata": {},
   "outputs": [],
   "source": [
    "# Partition of dataset\n",
    "#exemple: True_rows,False_rows=Partition(Train_data,Question(0,'Red'))\n",
    "\n",
    "\n",
    "def Partition(rows, question):\n",
    "    \"\"\" for each row in data, \n",
    "    chek if it matches the question, add it to true rows, else add it to false rows\"\"\"\n",
    "    \n",
    "    True_rows, False_rows= [], []\n",
    "    \n",
    "    for row in rows:\n",
    "        if question.match(row):\n",
    "            True_rows.append(row)\n",
    "            \n",
    "        else:\n",
    "            False_rows.append(row)\n",
    "            \n",
    "    return True_rows, False_rows\n",
    "    \n",
    "    \n",
    "    "
   ]
  },
  {
   "cell_type": "code",
   "execution_count": 41,
   "metadata": {},
   "outputs": [],
   "source": [
    "# gini: Calculate the gini impurity for a list of rows\n",
    "\n",
    "def gini(rows):\n",
    "    \n",
    "    counts = class_count(rows)\n",
    "    impurity=1\n",
    "    \n",
    "    for lbl in counts:\n",
    "        prob_of_lbl = counts[lbl]/float(len(rows))\n",
    "        impurity -= prob_of_lbl**2\n",
    "        \n",
    "    return impurity"
   ]
  },
  {
   "cell_type": "code",
   "execution_count": 52,
   "metadata": {},
   "outputs": [],
   "source": [
    "# information gain\n",
    "\n",
    "def info_gain(left, right, current_uncertainty):\n",
    "    \n",
    "    p= float(len(left)/(len(left)+len(right)))\n",
    "    return current_uncertainty - p*gini(left) -(1-p)*gini(right)\n",
    "    "
   ]
  },
  {
   "cell_type": "code",
   "execution_count": 43,
   "metadata": {},
   "outputs": [],
   "source": [
    "# find the best question to ask.\n",
    "\n",
    "def find_the_best_split(rows):\n",
    "    \n",
    "    best_gain = 0\n",
    "    best_question =None\n",
    "    current_uncertainty = gini(rows)\n",
    "    n_featurs = len(rows[0])-1\n",
    "    \n",
    "    \n",
    "    for i in range(n_featurs):\n",
    "        \n",
    "        values = set([row[i] for row in rows])\n",
    "        \n",
    "        for val in values:\n",
    "            \n",
    "            question = Question(i,val)\n",
    "            \n",
    "            true_rows, false_rows = Partition(rows, question)\n",
    "            \n",
    "            if len(true_rows)==0 or len(false_rows)==0:\n",
    "                continue\n",
    "                \n",
    "            gain = info_gain(true_rows, false_rows, current_uncertainty)\n",
    "            \n",
    "            if gain>=best_gain:\n",
    "                best_gain=gain\n",
    "                best_question = question\n",
    "                \n",
    "            \n",
    "            \n",
    "    return best_gain, best_question\n",
    "    "
   ]
  },
  {
   "cell_type": "code",
   "execution_count": 44,
   "metadata": {},
   "outputs": [],
   "source": [
    "\n",
    "class Leaf:\n",
    "    \n",
    "    def __init__(self, rows):\n",
    "        self.predictions = class_count(rows)"
   ]
  },
  {
   "cell_type": "code",
   "execution_count": 56,
   "metadata": {},
   "outputs": [],
   "source": [
    "\n",
    "class Decision_Node:\n",
    "    \n",
    "    \n",
    "    def __init__(self, question, true_branch, false_branch):\n",
    "        self.question = question\n",
    "        self.true_branch = true_branch\n",
    "        self.false_branch = false_branch\n",
    "        \n"
   ]
  },
  {
   "cell_type": "code",
   "execution_count": 54,
   "metadata": {},
   "outputs": [],
   "source": [
    "\n",
    "\n",
    "def build_tree(rows):\n",
    "    \n",
    "    # partitioning the data on each of the unique attribute.\n",
    "    # calculate the information gain\n",
    "    # return the question that produces the highest gain\n",
    "    \n",
    "    gain, question = find_the_best_split(rows)\n",
    "    \n",
    "    if gain == 0:\n",
    "        return Leaf(rows)\n",
    "    \n",
    "    \n",
    "    true_rows, false_rows = Partition(rows, question)\n",
    "    \n",
    "    \n",
    "    true_branch = build_tree(true_rows)\n",
    "    \n",
    "    \n",
    "    false_branch = build_tree(false_rows)\n",
    "    \n",
    "    \n",
    "    return Decision_Node(question, true_branch, false_branch)\n",
    "    \n",
    "    "
   ]
  },
  {
   "cell_type": "code",
   "execution_count": 47,
   "metadata": {},
   "outputs": [],
   "source": [
    "def print_tree(node, spacing=\"\"):\n",
    "    \n",
    "    if isinstance(node,Leaf):\n",
    "        print(spacing + \"Predict\",node.predictions)\n",
    "        return\n",
    "    \n",
    "    print(spacing + str(node.question))\n",
    "    \n",
    "    print(spacing + \"--> True\")\n",
    "    \n",
    "    print_tree(node.true_branch, spacing+ \" \")\n",
    "    \n",
    "    \n",
    "    print(spacing + \"--> False\")\n",
    "    \n",
    "    print_tree(node.false_branch, spacing+ \" \")\n",
    "        "
   ]
  },
  {
   "cell_type": "code",
   "execution_count": 48,
   "metadata": {},
   "outputs": [],
   "source": [
    "def classify(row, node):\n",
    "    \n",
    "    if isinstance(node,Leaf):\n",
    "        return node.predictions\n",
    "    \n",
    "    if node.question.match(row):\n",
    "        return classify(row, node.true_branch)\n",
    "    \n",
    "    else:\n",
    "        return classify(row, node.false_branch)\n",
    "    \n",
    "\n",
    "    "
   ]
  },
  {
   "cell_type": "code",
   "execution_count": 58,
   "metadata": {},
   "outputs": [],
   "source": [
    "def print_leaf(counts):\n",
    "    total= sum(counts.values())*1.0\n",
    "    \n",
    "    probs= {}\n",
    "    for lbl in counts.keys():\n",
    "        probs[lbl]= str(int(counts[lbl]/total*100))+\"%\"\n",
    "        \n",
    "    return probs\n"
   ]
  },
  {
   "cell_type": "code",
   "execution_count": 59,
   "metadata": {},
   "outputs": [
    {
     "name": "stdout",
     "output_type": "stream",
     "text": [
      "Is Diameter >= 3 ?\n",
      "--> True\n",
      " Is Color == Yellow ?\n",
      " --> True\n",
      "  Predict {'Mango': 1, 'Lemon': 1}\n",
      " --> False\n",
      "  Predict {'Mango': 1}\n",
      "--> False\n",
      " Predict {'Grape': 2}\n",
      "Actual: Apple. Predicted: {'Mango': '100%'}\n",
      "Actual: Apple. Predicted: {'Mango': '50%', 'Lemon': '50%'}\n",
      "Actual: Grape. Predicted: {'Grape': '100%'}\n",
      "Actual: Grape. Predicted: {'Grape': '100%'}\n",
      "Actual: Lemon. Predicted: {'Mango': '50%', 'Lemon': '50%'}\n"
     ]
    }
   ],
   "source": [
    "if __name__ == '__main__':\n",
    "    my_tree = build_tree(Train_data)\n",
    "    \n",
    "    print_tree(my_tree)\n",
    "    \n",
    "    \n",
    "    testing_data= [\n",
    "        ['Green',3,'Apple'],\n",
    "        ['Yellow',4,'Apple'],\n",
    "        ['Red',2,'Grape'],\n",
    "        ['Red',1,'Grape'],\n",
    "        ['Yellow',3,'Lemon'],\n",
    "    ]\n",
    "    \n",
    "    \n",
    "    for row in testing_data:\n",
    "        print(\"Actual: %s. Predicted: %s\" %\n",
    "             (row[-1],print_leaf(classify(row, my_tree))))\n",
    "    \n",
    "    "
   ]
  },
  {
   "cell_type": "code",
   "execution_count": null,
   "metadata": {},
   "outputs": [],
   "source": []
  }
 ],
 "metadata": {
  "kernelspec": {
   "display_name": "Python 3",
   "language": "python",
   "name": "python3"
  },
  "language_info": {
   "codemirror_mode": {
    "name": "ipython",
    "version": 3
   },
   "file_extension": ".py",
   "mimetype": "text/x-python",
   "name": "python",
   "nbconvert_exporter": "python",
   "pygments_lexer": "ipython3",
   "version": "3.8.3"
  }
 },
 "nbformat": 4,
 "nbformat_minor": 4
}
